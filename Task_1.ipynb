{
  "nbformat": 4,
  "nbformat_minor": 0,
  "metadata": {
    "colab": {
      "name": "Task 1.ipynb",
      "provenance": [],
      "authorship_tag": "ABX9TyOHXVtBYGA2ow24ylDzPOmV",
      "include_colab_link": true
    },
    "kernelspec": {
      "name": "python3",
      "display_name": "Python 3"
    },
    "language_info": {
      "name": "python"
    }
  },
  "cells": [
    {
      "cell_type": "markdown",
      "metadata": {
        "id": "view-in-github",
        "colab_type": "text"
      },
      "source": [
        "<a href=\"https://colab.research.google.com/github/Shanth1234/Task/blob/main/Task_1.ipynb\" target=\"_parent\"><img src=\"https://colab.research.google.com/assets/colab-badge.svg\" alt=\"Open In Colab\"/></a>"
      ]
    },
    {
      "cell_type": "code",
      "execution_count": null,
      "metadata": {
        "colab": {
          "base_uri": "https://localhost:8080/"
        },
        "id": "6sFY3Kr2Pslj",
        "outputId": "e82114df-25bb-4fbd-e1bc-d31a13e9ff67"
      },
      "outputs": [
        {
          "output_type": "stream",
          "name": "stdout",
          "text": [
            "Welcome to portal\n",
            "Choose the option\n",
            "New user 1 to Register\n",
            "existing user ?, then Enter 2 to Login\n",
            "Enter your choice..1\n",
            "please provide valid mailid: sss@gmail.com\n",
            "please provide valid mailpwd: Schneider#8\n",
            "Valid emailid\n",
            "Valid password\n"
          ]
        }
      ],
      "source": [
        "a = 0\n",
        "spec = \"!#$%&'()*+,-./:;<=>?@[\\]^_`{|}~\"\n",
        "spec = list(spec)\n",
        "\n",
        "\n",
        "\n",
        "def Login():\n",
        "    m  =  input(\"Enter your username..\")\n",
        "    n  = input(\"Enter your password..\")\n",
        "    \n",
        "    for line in open(\"Registar.txt\", \"r\").readlines():\n",
        "        flag  = True\n",
        "        data  = line.split()\n",
        "        if m  == data[0] and n == data[1]:\n",
        "            print(\"You are successfully logged into your account\")\n",
        "            break\n",
        "        else:\n",
        "            flag  =  False\n",
        "            \n",
        "    if flag == False:\n",
        "        print(\"Your credentials are invalid\")\n",
        "        print(\"forgot password\" )\n",
        "        input(\"Enter your Correct user name \")\n",
        "        for line in open(\"Registar.txt\", \"r\").readlines():\n",
        "            if m  == data[0]:\n",
        "              print(\"your Password is\"(data[1]))\n",
        "            else:\n",
        "              print(\"User name is invalid\")\n",
        "              Login()  \n",
        "                                \n",
        "                  \n",
        "def Register():\n",
        "  \n",
        "    def password(n):\n",
        "        k,c,d,j = 0,0,0,0\n",
        "        for b in n:\n",
        "            if b.isupper():\n",
        "                k = k+1\n",
        "            if b.islower():\n",
        "                c = c+1\n",
        "            if b.isdigit():\n",
        "                d = d+1\n",
        "            if (k and c and d)>0:\n",
        "                break\n",
        "        \n",
        "    \n",
        "        for s in spec:\n",
        "            if s in n:\n",
        "                j = j+1\n",
        "        if (5<len(n)<15) and ((k and c and d and j) > 0):\n",
        "            print(\"Valid password\")\n",
        "            file  =  open(\"Registar.txt\", \"a\")\n",
        "            file.write(m)\n",
        "            file.write(\" \")\n",
        "            file.write(n)\n",
        "            file.write(\"\\n\")\n",
        "            file.close()\n",
        "        else:\n",
        "            print(\"Invalid password\")\n",
        "\n",
        "    def username(m):\n",
        "        \n",
        "       for h in m:\n",
        "           if h == \"@\":\n",
        "               r = m.index(h)\n",
        "               for l in range(r,len(m)):\n",
        "                    if m[l] == \".\":\n",
        "                         print(\"Valid emailid\")\n",
        "                         password(n)\n",
        "                         break\n",
        "                    else:\n",
        "                         global a\n",
        "                         a = a+1\n",
        "                         if a == (len(m)-r):\n",
        "                              print(\"Invalid emailid\")\n",
        "    m = input(\"please provide valid mailid: \")\n",
        "    n = input(\"please provide valid mailpwd: \")\n",
        "\n",
        "    username(m)\n",
        "    \n",
        "   \n",
        "print(\"Welcome to portal\")\n",
        "print(\"Choose the option\")\n",
        "print(\"New user 1 to Register\")\n",
        "print(\"existing user ?, then Enter 2 to Login\")\n",
        "\n",
        "userInput  =  input(\"Enter your choice..\")\n",
        "\n",
        "if userInput == \"1\":\n",
        "  Register()\n",
        "if userInput == \"2\":\n",
        "  Login()"
      ]
    },
    {
      "cell_type": "code",
      "source": [
        ""
      ],
      "metadata": {
        "id": "Yf0Az1bzj-6g"
      },
      "execution_count": null,
      "outputs": []
    },
    {
      "cell_type": "code",
      "source": [
        ""
      ],
      "metadata": {
        "id": "qNE2-B1uV58l"
      },
      "execution_count": null,
      "outputs": []
    }
  ]
}